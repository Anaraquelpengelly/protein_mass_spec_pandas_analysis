{
 "cells": [
  {
   "cell_type": "code",
   "execution_count": null,
   "metadata": {
    "collapsed": true
   },
   "outputs": [],
   "source": [
    "import pandas as pd\n",
    "df =pd.read_csv('/Users/pengela/Documents/FOXO/Scripts/table.txt', sep=\"\\t\")#it is important you get the separator right!\n",
    "#df =pd.read_csv('/Users/pengela/Documents/FOXO/Scripts/table.txt', sep=\" \")[['Symbol','protein']]\n"
   ]
  },
  {
   "cell_type": "code",
   "execution_count": null,
   "metadata": {
    "scrolled": true
   },
   "outputs": [],
   "source": [
    "df.head()"
   ]
  },
  {
   "cell_type": "code",
   "execution_count": null,
   "metadata": {},
   "outputs": [],
   "source": [
    "#list column names to double chekc you got the separator right:\n",
    "list(df)"
   ]
  },
  {
   "cell_type": "code",
   "execution_count": null,
   "metadata": {
    "collapsed": true
   },
   "outputs": [],
   "source": [
    "#drop unwanted columns\n",
    "\n",
    "df = df.drop(['Symbol color','Symbol type','Symbol size','Proteins','Unique peptides control IP', 'Unique peptides FOXO-GFP IP'], axis=1)\n",
    "# you can also do it this way:\n",
    "# df.drop(df.columns[0],axis=1)"
   ]
  },
  {
   "cell_type": "code",
   "execution_count": null,
   "metadata": {},
   "outputs": [],
   "source": [
    "df.head()"
   ]
  },
  {
   "cell_type": "code",
   "execution_count": null,
   "metadata": {
    "collapsed": true
   },
   "outputs": [],
   "source": [
    "#you could drop all NaNs:\n",
    "#df.dropna()\n",
    "#removes all rows is there is a single nan in that row"
   ]
  },
  {
   "cell_type": "code",
   "execution_count": null,
   "metadata": {
    "collapsed": true
   },
   "outputs": [],
   "source": [
    "df= df.dropna(subset=['Gene names']) #drop columns where the gene name is NaN"
   ]
  },
  {
   "cell_type": "code",
   "execution_count": null,
   "metadata": {
    "collapsed": true
   },
   "outputs": [],
   "source": [
    "#set index to what you want it to be\n",
    "df =df.set_index('Gene names')"
   ]
  },
  {
   "cell_type": "code",
   "execution_count": null,
   "metadata": {},
   "outputs": [],
   "source": [
    "df.head()"
   ]
  },
  {
   "cell_type": "code",
   "execution_count": null,
   "metadata": {
    "collapsed": true
   },
   "outputs": [],
   "source": [
    "#now select the rows you are intersted in:\n",
    "#is_B_signif_pos = df.loc[(df['iBAQ FOXO-GFP IP_x-y_iBAQ control IP B significant'] == '+')]\n",
    "# is_stringent_PEP = df.loc[(df['Stringent_PEP'] == '+')]\n",
    "# is_stringent_quant_F = df.loc[(df['stringent_quant_FOXO-GFP IP'] == '+')]\n",
    "# is_stringent_quant_C = df.loc[(df['stringent_quant_control IP'] == '+')]\n",
    "\n",
    "df_robust = df.loc[(df['iBAQ FOXO-GFP IP_x-y_iBAQ control IP B significant'] == '+')&(df['stringent_PEP'] == '+')&(df['stringent_quant_FOXO-GFP IP'] == '+')]\n",
    "\n",
    "# df_robust1=df.loc[(df['stringent_PEP'] == '+')&(df['stringent_quant_FOXO-GFP IP'] == '+')]\n",
    "# df_robust1.head()\n",
    "\n",
    "# year = world_alcohol[is_year,:]\n",
    "# df.loc[(df['column_name'] == some_value) & df['other_column'].isin(some_values)]"
   ]
  },
  {
   "cell_type": "code",
   "execution_count": null,
   "metadata": {
    "collapsed": true
   },
   "outputs": [],
   "source": [
    "#now we have to select the values of 'iBAQ FOXO-GFP IP_x-y_iBAQ control IP' that are positive\n",
    "# ( we are not interested in the hits that are enriched in the control!)\n",
    "# df_robust.dtypes\n",
    "df_robust = df_robust.loc[(df_robust['iBAQ FOXO-GFP IP_x-y_iBAQ control IP'] > 0)]"
   ]
  },
  {
   "cell_type": "code",
   "execution_count": null,
   "metadata": {},
   "outputs": [],
   "source": [
    "# len(df_robust1)\n",
    "df_robust.shape"
   ]
  },
  {
   "cell_type": "code",
   "execution_count": null,
   "metadata": {
    "collapsed": true
   },
   "outputs": [],
   "source": [
    "# you can sort the database with a column descending or ascending\n",
    "df_robust = df_robust.sort_values('iBAQ FOXO-GFP IP_x-y_iBAQ control IP Significance B', ascending = True)"
   ]
  },
  {
   "cell_type": "code",
   "execution_count": null,
   "metadata": {},
   "outputs": [],
   "source": [
    "df_robust.head()"
   ]
  },
  {
   "cell_type": "code",
   "execution_count": null,
   "metadata": {
    "collapsed": true
   },
   "outputs": [],
   "source": [
    "#Now you need to write a file with the new database as txt:\n",
    "df_robust.to_csv('/Users/pengela/Documents/FOXO/Biochemistry/MS_proteomics_results/MS_results_SignB_asc.txt', sep='\\t')"
   ]
  },
  {
   "cell_type": "code",
   "execution_count": null,
   "metadata": {
    "collapsed": true
   },
   "outputs": [],
   "source": [
    "#or as .csv:\n",
    "df_robust.to_csv('/Users/pengela/Documents/FOXO/Biochemistry/MS_proteomics_results/MS_results_SignB_asc_pos.csv')\n",
    "# df_robust1.to_csv('/Users/pengela/Documents/FOXO/Biochemistry/MS_proteomics_results/MS_results_strgPEP_FOXO_IP_SignB_asc.csv')"
   ]
  },
  {
   "cell_type": "code",
   "execution_count": null,
   "metadata": {
    "collapsed": true
   },
   "outputs": [],
   "source": [
    "# you can also add a column with the function information ... and one with the human/mouse ortholog information."
   ]
  }
 ],
 "metadata": {
  "kernelspec": {
   "display_name": "Python 3",
   "language": "python",
   "name": "python3"
  },
  "language_info": {
   "codemirror_mode": {
    "name": "ipython",
    "version": 3
   },
   "file_extension": ".py",
   "mimetype": "text/x-python",
   "name": "python",
   "nbconvert_exporter": "python",
   "pygments_lexer": "ipython3",
   "version": "3.6.1"
  }
 },
 "nbformat": 4,
 "nbformat_minor": 2
}
